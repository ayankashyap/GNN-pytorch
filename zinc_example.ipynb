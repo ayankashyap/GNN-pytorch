{
 "cells": [
  {
   "cell_type": "code",
   "execution_count": 2,
   "metadata": {},
   "outputs": [],
   "source": [
    "%load_ext autoreload\n",
    "%autoreload 2"
   ]
  },
  {
   "cell_type": "code",
   "execution_count": null,
   "metadata": {},
   "outputs": [],
   "source": [
    "# !git clone https://github.com/ayankashyap/GNN-pytorch\n",
    "#%cd GNN-pytorch\n",
    "#!pip install wandb "
   ]
  },
  {
   "cell_type": "code",
   "execution_count": null,
   "metadata": {},
   "outputs": [],
   "source": [
    "import wandb\n",
    "wandb.login()"
   ]
  },
  {
   "cell_type": "code",
   "execution_count": 3,
   "metadata": {},
   "outputs": [
    {
     "name": "stderr",
     "output_type": "stream",
     "text": [
      "/home/ayank/.local/lib/python3.10/site-packages/tqdm/auto.py:22: TqdmWarning: IProgress not found. Please update jupyter and ipywidgets. See https://ipywidgets.readthedocs.io/en/stable/user_install.html\n",
      "  from .autonotebook import tqdm as notebook_tqdm\n"
     ]
    }
   ],
   "source": [
    "import logging\n",
    "\n",
    "import torch\n",
    "from torch.utils.data import Dataset, SubsetRandomSampler, random_split\n",
    "from gnn_pytorch.utils import normalize\n",
    "from data.ZINC.zinc_dataset import ZINC"
   ]
  },
  {
   "cell_type": "code",
   "execution_count": 4,
   "metadata": {},
   "outputs": [],
   "source": [
    "\n",
    "logging.basicConfig(\n",
    "        format=\"%(asctime)s - %(levelname)s - %(name)s -   %(message)s\",\n",
    "        datefmt=\"%m/%d/%Y %H:%M:%S\",\n",
    "        level=logging.INFO,\n",
    ")\n",
    "\n",
    "logger = logging.getLogger(__name__)"
   ]
  },
  {
   "cell_type": "code",
   "execution_count": 5,
   "metadata": {},
   "outputs": [],
   "source": [
    "train = ZINC(root_dir='./data/ZINC', split='train')\n",
    "val = ZINC(root_dir='./data/ZINC', split='val')\n",
    "# test = ZINC(root_dir='./data/ZINC', split='test')"
   ]
  },
  {
   "cell_type": "code",
   "execution_count": 37,
   "metadata": {},
   "outputs": [
    {
     "name": "stderr",
     "output_type": "stream",
     "text": [
      "05/24/2022 21:42:38 - INFO - gnn_pytorch.models -   number of parameters: 5.468780e+05\n"
     ]
    }
   ],
   "source": [
    "from gnn_pytorch.models import GNN_Config, VanillaGCN\n",
    "van_gcn_config = GNN_Config(n_layers=3, inp_dim=33)\n",
    "vanilla_gcn = VanillaGCN(van_gcn_config)"
   ]
  },
  {
   "cell_type": "code",
   "execution_count": 34,
   "metadata": {},
   "outputs": [],
   "source": [
    "from gnn_pytorch.trainer import Trainer, TrainerConfig\n",
    "\n",
    "tconf = TrainerConfig(max_epochs=1, batch_size=10)\n",
    "trainer = Trainer(model=vanilla_gcn, train_dataset=train, val_dataset=val, config=tconf)"
   ]
  },
  {
   "cell_type": "code",
   "execution_count": 38,
   "metadata": {},
   "outputs": [
    {
     "data": {
      "text/plain": [
       "VanillaGCN(\n",
       "  (gcn_stack): GCN_Stack(\n",
       "    (0): GraphConvLayer(\n",
       "      (weight): Linear(in_features=33, out_features=32, bias=True)\n",
       "    )\n",
       "    (1): GraphConvLayer(\n",
       "      (weight): Linear(in_features=32, out_features=32, bias=True)\n",
       "    )\n",
       "    (2): GraphConvLayer(\n",
       "      (weight): Linear(in_features=32, out_features=32, bias=True)\n",
       "    )\n",
       "  )\n",
       "  (node_embd): Embedding(29, 33, padding_idx=28)\n",
       "  (readout): ReadOut(\n",
       "    (w1): Linear(in_features=32, out_features=512, bias=True)\n",
       "    (w2): Linear(in_features=512, out_features=512, bias=True)\n",
       "    (w3): Linear(in_features=512, out_features=512, bias=True)\n",
       "    (w4): Linear(in_features=512, out_features=1, bias=True)\n",
       "  )\n",
       ")"
      ]
     },
     "execution_count": 38,
     "metadata": {},
     "output_type": "execute_result"
    }
   ],
   "source": [
    "vanilla_gcn"
   ]
  },
  {
   "cell_type": "code",
   "execution_count": null,
   "metadata": {},
   "outputs": [],
   "source": [
    "trainer.train()"
   ]
  },
  {
   "cell_type": "code",
   "execution_count": 58,
   "metadata": {},
   "outputs": [
    {
     "data": {
      "text/plain": [
       "torch.Size([65, 3])"
      ]
     },
     "execution_count": 58,
     "metadata": {},
     "output_type": "execute_result"
    }
   ],
   "source": [
    "torch.concat((torch.rand(33,3), torch.rand(32,3))).shape"
   ]
  },
  {
   "cell_type": "code",
   "execution_count": null,
   "metadata": {},
   "outputs": [],
   "source": []
  }
 ],
 "metadata": {
  "interpreter": {
   "hash": "0109717f5a0918510077db9defd5e401b8ce1c4ed4a564680d6c8a4c1bf7744b"
  },
  "kernelspec": {
   "display_name": "Python 3.10.1 64-bit ('3.10.1')",
   "language": "python",
   "name": "python3"
  },
  "language_info": {
   "codemirror_mode": {
    "name": "ipython",
    "version": 3
   },
   "file_extension": ".py",
   "mimetype": "text/x-python",
   "name": "python",
   "nbconvert_exporter": "python",
   "pygments_lexer": "ipython3",
   "version": "3.10.1"
  },
  "orig_nbformat": 4
 },
 "nbformat": 4,
 "nbformat_minor": 2
}
