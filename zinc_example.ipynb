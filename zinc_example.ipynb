{
 "cells": [
  {
   "cell_type": "code",
   "execution_count": 1,
   "metadata": {},
   "outputs": [],
   "source": [
    "%load_ext autoreload\n",
    "%autoreload 2"
   ]
  },
  {
   "cell_type": "code",
   "execution_count": 24,
   "metadata": {},
   "outputs": [],
   "source": [
    "import logging\n",
    "\n",
    "import torch\n",
    "from torch.utils.data import Dataset, SubsetRandomSampler, random_split\n",
    "\n",
    "from data.ZINC.smiles_to_graph import convertToGraph, get_prop\n",
    "from gnn_pytorch.utils import normalize\n",
    "from sklearn.model_selection import train_test_split"
   ]
  },
  {
   "cell_type": "code",
   "execution_count": 12,
   "metadata": {},
   "outputs": [],
   "source": [
    "\n",
    "TRAIN_SIZE = 360000\n",
    "VAL_SIZE = 90000\n",
    "TEST_SIZE = 50000\n",
    "logging.basicConfig(\n",
    "        format=\"%(asctime)s - %(levelname)s - %(name)s -   %(message)s\",\n",
    "        datefmt=\"%m/%d/%Y %H:%M:%S\",\n",
    "        level=logging.INFO,\n",
    ")\n",
    "\n",
    "logger = logging.getLogger(__name__)"
   ]
  },
  {
   "cell_type": "code",
   "execution_count": 45,
   "metadata": {},
   "outputs": [],
   "source": [
    "class SmilesDataset(Dataset):\n",
    "    \"\"\"Possible Properties: [\"LOGP\", \"TPSA\", \"QED\"]\"\"\"\n",
    "\n",
    "    def __init__(self, path_to_smiles: str, property: str, normalize: bool = False):\n",
    "        self.smiles_list = []\n",
    "        with open(path_to_smiles) as f:\n",
    "            self.smiles_list = f.read().split(\"\\n\")\n",
    "        self.smiles_list = self.smiles_list[:-1]\n",
    "        self.property = property\n",
    "        self.normalize = normalize\n",
    "\n",
    "    def __len__(self):\n",
    "        return len(self.smiles_list)\n",
    "\n",
    "    def __getitem__(self, idx):\n",
    "        # It could possibly be faster by converting the list of smiles\n",
    "        # into a graph dataset before hand instead of doing this every idx\n",
    "        adj, feat = convertToGraph(self.smiles_list[idx], 1)\n",
    "        prop = get_prop(self.smiles_list[idx], self.property)\n",
    "\n",
    "        feat = torch.tensor(feat, dtype=torch.float)\n",
    "        adj = torch.tensor(adj, dtype=torch.float)\n",
    "        prop = torch.tensor([prop], dtype=torch.float)\n",
    "\n",
    "        if self.normalize:\n",
    "            adj = normalize(adj)\n",
    "\n",
    "        return feat, adj, prop\n",
    "\n",
    "logp_dataset = SmilesDataset('./data/ZINC/smiles.txt', 'LOGP', True)"
   ]
  },
  {
   "cell_type": "code",
   "execution_count": 46,
   "metadata": {},
   "outputs": [],
   "source": [
    "train_set,val_set,test_set = random_split(logp_dataset, [TRAIN_SIZE, VAL_SIZE, TEST_SIZE], generator=torch.Generator().manual_seed(42))"
   ]
  },
  {
   "cell_type": "code",
   "execution_count": 47,
   "metadata": {},
   "outputs": [
    {
     "name": "stderr",
     "output_type": "stream",
     "text": [
      "05/21/2022 23:55:05 - INFO - gnn_pytorch.models -   number of parameters: 5.477770e+05\n"
     ]
    }
   ],
   "source": [
    "from gnn_pytorch.models import GNN_Config, VanillaGCN\n",
    "van_gcn_config = GNN_Config(n_layers=5)\n",
    "vanilla_gcn = VanillaGCN(van_gcn_config)"
   ]
  },
  {
   "cell_type": "code",
   "execution_count": 50,
   "metadata": {},
   "outputs": [],
   "source": [
    "from gnn_pytorch.trainer import Trainer, TrainerConfig\n",
    "\n",
    "tconf = TrainerConfig(max_epochs=1)\n",
    "trainer = Trainer(model=vanilla_gcn, train_dataset=train_set, val_dataset=test_set, config=tconf)"
   ]
  },
  {
   "cell_type": "code",
   "execution_count": 51,
   "metadata": {},
   "outputs": [
    {
     "name": "stderr",
     "output_type": "stream",
     "text": [
      "epoch 1 iter 313: train loss 1.53601.:   9%|▊         | 314/3600 [00:31<05:30,  9.95it/s]\n"
     ]
    }
   ],
   "source": [
    "trainer.train()"
   ]
  },
  {
   "cell_type": "code",
   "execution_count": null,
   "metadata": {},
   "outputs": [],
   "source": []
  }
 ],
 "metadata": {
  "interpreter": {
   "hash": "0109717f5a0918510077db9defd5e401b8ce1c4ed4a564680d6c8a4c1bf7744b"
  },
  "kernelspec": {
   "display_name": "Python 3.10.1 64-bit ('3.10.1')",
   "language": "python",
   "name": "python3"
  },
  "language_info": {
   "codemirror_mode": {
    "name": "ipython",
    "version": 3
   },
   "file_extension": ".py",
   "mimetype": "text/x-python",
   "name": "python",
   "nbconvert_exporter": "python",
   "pygments_lexer": "ipython3",
   "version": "3.10.1"
  },
  "orig_nbformat": 4
 },
 "nbformat": 4,
 "nbformat_minor": 2
}
