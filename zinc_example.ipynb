{
 "cells": [
  {
   "cell_type": "code",
   "execution_count": 1,
   "metadata": {},
   "outputs": [],
   "source": [
    "%load_ext autoreload\n",
    "%autoreload 2"
   ]
  },
  {
   "cell_type": "code",
   "execution_count": 2,
   "metadata": {},
   "outputs": [
    {
     "name": "stderr",
     "output_type": "stream",
     "text": [
      "/home/ayank/.local/lib/python3.10/site-packages/tqdm/auto.py:22: TqdmWarning: IProgress not found. Please update jupyter and ipywidgets. See https://ipywidgets.readthedocs.io/en/stable/user_install.html\n",
      "  from .autonotebook import tqdm as notebook_tqdm\n"
     ]
    }
   ],
   "source": [
    "import logging\n",
    "\n",
    "import torch\n",
    "from torch.utils.data import Dataset, SubsetRandomSampler, random_split\n",
    "from gnn_pytorch.utils import normalize\n",
    "from data.ZINC.zinc_dataset import ZINC"
   ]
  },
  {
   "cell_type": "code",
   "execution_count": 3,
   "metadata": {},
   "outputs": [],
   "source": [
    "\n",
    "logging.basicConfig(\n",
    "        format=\"%(asctime)s - %(levelname)s - %(name)s -   %(message)s\",\n",
    "        datefmt=\"%m/%d/%Y %H:%M:%S\",\n",
    "        level=logging.INFO,\n",
    ")\n",
    "\n",
    "logger = logging.getLogger(__name__)"
   ]
  },
  {
   "cell_type": "code",
   "execution_count": 18,
   "metadata": {},
   "outputs": [],
   "source": [
    "train = ZINC(root_dir='./data/ZINC', split='train')\n",
    "val = ZINC(root_dir='./data/ZINC', split='val')\n",
    "# test = ZINC(root_dir='./data/ZINC', split='test')"
   ]
  },
  {
   "cell_type": "code",
   "execution_count": 19,
   "metadata": {},
   "outputs": [],
   "source": [
    "x,adj,y = train[6]"
   ]
  },
  {
   "cell_type": "code",
   "execution_count": 17,
   "metadata": {},
   "outputs": [
    {
     "name": "stderr",
     "output_type": "stream",
     "text": [
      "05/24/2022 13:22:52 - INFO - gnn_pytorch.models -   number of parameters: 5.468450e+05\n"
     ]
    }
   ],
   "source": [
    "from gnn_pytorch.models import GNN_Config, VanillaGCN\n",
    "van_gcn_config = GNN_Config(n_layers=3, inp_dim=33)\n",
    "vanilla_gcn = VanillaGCN(van_gcn_config)"
   ]
  },
  {
   "cell_type": "code",
   "execution_count": 11,
   "metadata": {},
   "outputs": [],
   "source": [
    "from gnn_pytorch.trainer import Trainer, TrainerConfig\n",
    "\n",
    "tconf = TrainerConfig(max_epochs=1)\n",
    "trainer = Trainer(model=vanilla_gcn, train_dataset=train, val_dataset=val, config=tconf)"
   ]
  },
  {
   "cell_type": "code",
   "execution_count": 12,
   "metadata": {},
   "outputs": [
    {
     "data": {
      "text/plain": [
       "VanillaGCN(\n",
       "  (gcn_stack): GCN_Stack(\n",
       "    (0): GraphConvLayer(\n",
       "      (weight): Linear(in_features=33, out_features=32, bias=True)\n",
       "    )\n",
       "    (1): GraphConvLayer(\n",
       "      (weight): Linear(in_features=32, out_features=32, bias=True)\n",
       "    )\n",
       "    (2): GraphConvLayer(\n",
       "      (weight): Linear(in_features=32, out_features=32, bias=True)\n",
       "    )\n",
       "  )\n",
       "  (node_embd): Embedding(28, 33)\n",
       "  (readout): ReadOut(\n",
       "    (w1): Linear(in_features=32, out_features=512, bias=True)\n",
       "    (w2): Linear(in_features=512, out_features=512, bias=True)\n",
       "    (w3): Linear(in_features=512, out_features=512, bias=True)\n",
       "    (w4): Linear(in_features=512, out_features=1, bias=True)\n",
       "  )\n",
       ")"
      ]
     },
     "execution_count": 12,
     "metadata": {},
     "output_type": "execute_result"
    }
   ],
   "source": [
    "vanilla_gcn"
   ]
  },
  {
   "cell_type": "code",
   "execution_count": 21,
   "metadata": {},
   "outputs": [
    {
     "name": "stdout",
     "output_type": "stream",
     "text": [
      "tensor([[-0.8335]], grad_fn=<AddmmBackward0>) tensor(0.0357, grad_fn=<MseLossBackward0>)\n"
     ]
    }
   ],
   "source": [
    "pred, loss = vanilla_gcn(x,adj,y)\n",
    "print(pred, loss)"
   ]
  },
  {
   "cell_type": "code",
   "execution_count": null,
   "metadata": {},
   "outputs": [],
   "source": []
  },
  {
   "cell_type": "code",
   "execution_count": null,
   "metadata": {},
   "outputs": [],
   "source": []
  }
 ],
 "metadata": {
  "interpreter": {
   "hash": "0109717f5a0918510077db9defd5e401b8ce1c4ed4a564680d6c8a4c1bf7744b"
  },
  "kernelspec": {
   "display_name": "Python 3.10.1 64-bit ('3.10.1')",
   "language": "python",
   "name": "python3"
  },
  "language_info": {
   "codemirror_mode": {
    "name": "ipython",
    "version": 3
   },
   "file_extension": ".py",
   "mimetype": "text/x-python",
   "name": "python",
   "nbconvert_exporter": "python",
   "pygments_lexer": "ipython3",
   "version": "3.10.1"
  },
  "orig_nbformat": 4
 },
 "nbformat": 4,
 "nbformat_minor": 2
}
